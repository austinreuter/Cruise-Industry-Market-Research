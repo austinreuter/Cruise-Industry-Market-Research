{
 "cells": [
  {
   "cell_type": "code",
   "execution_count": 1,
   "metadata": {},
   "outputs": [],
   "source": [
    "import pandas as pd\n",
    "import matplotlib.pyplot as plt\n",
    "import numpy as np\n",
    "import os\n",
    "from sklearn.preprocessing import StandardScaler"
   ]
  },
  {
   "cell_type": "code",
   "execution_count": 25,
   "metadata": {
    "scrolled": true
   },
   "outputs": [
    {
     "name": "stderr",
     "output_type": "stream",
     "text": [
      "C:\\Users\\Owner\\anconda3\\lib\\site-packages\\IPython\\core\\interactiveshell.py:3049: DtypeWarning: Columns (22,23,24,25) have mixed types. Specify dtype option on import or set low_memory=False.\n",
      "  interactivity=interactivity, compiler=compiler, result=result)\n"
     ]
    },
    {
     "data": {
      "text/html": [
       "<div>\n",
       "<style scoped>\n",
       "    .dataframe tbody tr th:only-of-type {\n",
       "        vertical-align: middle;\n",
       "    }\n",
       "\n",
       "    .dataframe tbody tr th {\n",
       "        vertical-align: top;\n",
       "    }\n",
       "\n",
       "    .dataframe thead th {\n",
       "        text-align: right;\n",
       "    }\n",
       "</style>\n",
       "<table border=\"1\" class=\"dataframe\">\n",
       "  <thead>\n",
       "    <tr style=\"text-align: right;\">\n",
       "      <th></th>\n",
       "      <th>Accounting Code</th>\n",
       "      <th>Action Text</th>\n",
       "      <th>Call Type</th>\n",
       "      <th>Year</th>\n",
       "      <th>Quarter</th>\n",
       "      <th>Month</th>\n",
       "      <th>Day</th>\n",
       "      <th>Customer City</th>\n",
       "      <th>Customer Country</th>\n",
       "      <th>Customer Geocenter</th>\n",
       "      <th>...</th>\n",
       "      <th>Total Hours</th>\n",
       "      <th>Travel Cost $</th>\n",
       "      <th>Travel Hours</th>\n",
       "      <th>Year.4</th>\n",
       "      <th>Quarter.4</th>\n",
       "      <th>Month.4</th>\n",
       "      <th>Day.4</th>\n",
       "      <th>Warranty Length (Years)</th>\n",
       "      <th>Was Call a Phone Fix ?</th>\n",
       "      <th>Was Instr. Out of Warranty ?</th>\n",
       "    </tr>\n",
       "  </thead>\n",
       "  <tbody>\n",
       "    <tr>\n",
       "      <th>0</th>\n",
       "      <td>MC - Contract</td>\n",
       "      <td>NaN</td>\n",
       "      <td>PM - Preventive Maintenance</td>\n",
       "      <td>2018</td>\n",
       "      <td>Qtr 4</td>\n",
       "      <td>November</td>\n",
       "      <td>30</td>\n",
       "      <td>ALPENA</td>\n",
       "      <td>USA</td>\n",
       "      <td>Americas</td>\n",
       "      <td>...</td>\n",
       "      <td>29.0</td>\n",
       "      <td>3000.0</td>\n",
       "      <td>20.0</td>\n",
       "      <td>2007.0</td>\n",
       "      <td>Qtr 3</td>\n",
       "      <td>August</td>\n",
       "      <td>10.0</td>\n",
       "      <td>1.01</td>\n",
       "      <td>No</td>\n",
       "      <td>Yes</td>\n",
       "    </tr>\n",
       "    <tr>\n",
       "      <th>1</th>\n",
       "      <td>MC - Contract</td>\n",
       "      <td>NaN</td>\n",
       "      <td>PM - Preventive Maintenance</td>\n",
       "      <td>2018</td>\n",
       "      <td>Qtr 4</td>\n",
       "      <td>November</td>\n",
       "      <td>30</td>\n",
       "      <td>ALPENA</td>\n",
       "      <td>USA</td>\n",
       "      <td>Americas</td>\n",
       "      <td>...</td>\n",
       "      <td>29.0</td>\n",
       "      <td>3000.0</td>\n",
       "      <td>20.0</td>\n",
       "      <td>2007.0</td>\n",
       "      <td>Qtr 3</td>\n",
       "      <td>August</td>\n",
       "      <td>10.0</td>\n",
       "      <td>1.01</td>\n",
       "      <td>No</td>\n",
       "      <td>Yes</td>\n",
       "    </tr>\n",
       "    <tr>\n",
       "      <th>2</th>\n",
       "      <td>MC - Contract</td>\n",
       "      <td>NaN</td>\n",
       "      <td>PM - Preventive Maintenance</td>\n",
       "      <td>2018</td>\n",
       "      <td>Qtr 4</td>\n",
       "      <td>November</td>\n",
       "      <td>30</td>\n",
       "      <td>ALPENA</td>\n",
       "      <td>USA</td>\n",
       "      <td>Americas</td>\n",
       "      <td>...</td>\n",
       "      <td>29.0</td>\n",
       "      <td>3000.0</td>\n",
       "      <td>20.0</td>\n",
       "      <td>2007.0</td>\n",
       "      <td>Qtr 3</td>\n",
       "      <td>August</td>\n",
       "      <td>10.0</td>\n",
       "      <td>1.01</td>\n",
       "      <td>No</td>\n",
       "      <td>Yes</td>\n",
       "    </tr>\n",
       "    <tr>\n",
       "      <th>3</th>\n",
       "      <td>MC - Contract</td>\n",
       "      <td>NaN</td>\n",
       "      <td>PM - Preventive Maintenance</td>\n",
       "      <td>2018</td>\n",
       "      <td>Qtr 4</td>\n",
       "      <td>November</td>\n",
       "      <td>30</td>\n",
       "      <td>ALPENA</td>\n",
       "      <td>USA</td>\n",
       "      <td>Americas</td>\n",
       "      <td>...</td>\n",
       "      <td>29.0</td>\n",
       "      <td>3000.0</td>\n",
       "      <td>20.0</td>\n",
       "      <td>2007.0</td>\n",
       "      <td>Qtr 3</td>\n",
       "      <td>August</td>\n",
       "      <td>10.0</td>\n",
       "      <td>1.01</td>\n",
       "      <td>No</td>\n",
       "      <td>Yes</td>\n",
       "    </tr>\n",
       "    <tr>\n",
       "      <th>4</th>\n",
       "      <td>MC - Contract</td>\n",
       "      <td>NaN</td>\n",
       "      <td>PM - Preventive Maintenance</td>\n",
       "      <td>2018</td>\n",
       "      <td>Qtr 4</td>\n",
       "      <td>November</td>\n",
       "      <td>30</td>\n",
       "      <td>ALPENA</td>\n",
       "      <td>USA</td>\n",
       "      <td>Americas</td>\n",
       "      <td>...</td>\n",
       "      <td>29.0</td>\n",
       "      <td>3000.0</td>\n",
       "      <td>20.0</td>\n",
       "      <td>2007.0</td>\n",
       "      <td>Qtr 3</td>\n",
       "      <td>August</td>\n",
       "      <td>10.0</td>\n",
       "      <td>1.01</td>\n",
       "      <td>No</td>\n",
       "      <td>Yes</td>\n",
       "    </tr>\n",
       "  </tbody>\n",
       "</table>\n",
       "<p>5 rows × 66 columns</p>\n",
       "</div>"
      ],
      "text/plain": [
       "  Accounting Code Action Text                    Call Type  Year Quarter  \\\n",
       "0   MC - Contract         NaN  PM - Preventive Maintenance  2018   Qtr 4   \n",
       "1   MC - Contract         NaN  PM - Preventive Maintenance  2018   Qtr 4   \n",
       "2   MC - Contract         NaN  PM - Preventive Maintenance  2018   Qtr 4   \n",
       "3   MC - Contract         NaN  PM - Preventive Maintenance  2018   Qtr 4   \n",
       "4   MC - Contract         NaN  PM - Preventive Maintenance  2018   Qtr 4   \n",
       "\n",
       "      Month  Day Customer City Customer Country Customer Geocenter  ...  \\\n",
       "0  November   30        ALPENA              USA           Americas  ...   \n",
       "1  November   30        ALPENA              USA           Americas  ...   \n",
       "2  November   30        ALPENA              USA           Americas  ...   \n",
       "3  November   30        ALPENA              USA           Americas  ...   \n",
       "4  November   30        ALPENA              USA           Americas  ...   \n",
       "\n",
       "   Total Hours Travel Cost $ Travel Hours  Year.4 Quarter.4  Month.4  Day.4  \\\n",
       "0         29.0        3000.0         20.0  2007.0     Qtr 3   August   10.0   \n",
       "1         29.0        3000.0         20.0  2007.0     Qtr 3   August   10.0   \n",
       "2         29.0        3000.0         20.0  2007.0     Qtr 3   August   10.0   \n",
       "3         29.0        3000.0         20.0  2007.0     Qtr 3   August   10.0   \n",
       "4         29.0        3000.0         20.0  2007.0     Qtr 3   August   10.0   \n",
       "\n",
       "  Warranty Length (Years) Was Call a Phone Fix ? Was Instr. Out of Warranty ?  \n",
       "0                    1.01                     No                          Yes  \n",
       "1                    1.01                     No                          Yes  \n",
       "2                    1.01                     No                          Yes  \n",
       "3                    1.01                     No                          Yes  \n",
       "4                    1.01                     No                          Yes  \n",
       "\n",
       "[5 rows x 66 columns]"
      ]
     },
     "execution_count": 25,
     "metadata": {},
     "output_type": "execute_result"
    }
   ],
   "source": [
    "ship = pd.read_csv('Ship_Maintenance_data.csv')\n",
    "ship.head()"
   ]
  },
  {
   "cell_type": "code",
   "execution_count": 26,
   "metadata": {},
   "outputs": [
    {
     "data": {
      "text/html": [
       "<div>\n",
       "<style scoped>\n",
       "    .dataframe tbody tr th:only-of-type {\n",
       "        vertical-align: middle;\n",
       "    }\n",
       "\n",
       "    .dataframe tbody tr th {\n",
       "        vertical-align: top;\n",
       "    }\n",
       "\n",
       "    .dataframe thead th {\n",
       "        text-align: right;\n",
       "    }\n",
       "</style>\n",
       "<table border=\"1\" class=\"dataframe\">\n",
       "  <thead>\n",
       "    <tr style=\"text-align: right;\">\n",
       "      <th></th>\n",
       "      <th>Accounting Code</th>\n",
       "      <th>Action Text</th>\n",
       "      <th>Call Type</th>\n",
       "      <th>Year</th>\n",
       "      <th>Quarter</th>\n",
       "      <th>Month</th>\n",
       "      <th>Day</th>\n",
       "      <th>Customer City</th>\n",
       "      <th>Customer Country</th>\n",
       "      <th>Customer Geocenter</th>\n",
       "      <th>...</th>\n",
       "      <th>Total Hours</th>\n",
       "      <th>Travel Cost $</th>\n",
       "      <th>Travel Hours</th>\n",
       "      <th>Year.4</th>\n",
       "      <th>Quarter.4</th>\n",
       "      <th>Month.4</th>\n",
       "      <th>Day.4</th>\n",
       "      <th>Warranty Length (Years)</th>\n",
       "      <th>Was Call a Phone Fix ?</th>\n",
       "      <th>Was Instr. Out of Warranty ?</th>\n",
       "    </tr>\n",
       "  </thead>\n",
       "  <tbody>\n",
       "    <tr>\n",
       "      <th>0</th>\n",
       "      <td>MC - Contract</td>\n",
       "      <td>NaN</td>\n",
       "      <td>PM - Preventive Maintenance</td>\n",
       "      <td>2018</td>\n",
       "      <td>Qtr 4</td>\n",
       "      <td>November</td>\n",
       "      <td>30</td>\n",
       "      <td>ALPENA</td>\n",
       "      <td>USA</td>\n",
       "      <td>Americas</td>\n",
       "      <td>...</td>\n",
       "      <td>29.0</td>\n",
       "      <td>3000.0</td>\n",
       "      <td>20.0</td>\n",
       "      <td>2007.0</td>\n",
       "      <td>Qtr 3</td>\n",
       "      <td>August</td>\n",
       "      <td>10.0</td>\n",
       "      <td>1.01</td>\n",
       "      <td>No</td>\n",
       "      <td>Yes</td>\n",
       "    </tr>\n",
       "    <tr>\n",
       "      <th>1</th>\n",
       "      <td>MC - Contract</td>\n",
       "      <td>NaN</td>\n",
       "      <td>PM - Preventive Maintenance</td>\n",
       "      <td>2018</td>\n",
       "      <td>Qtr 4</td>\n",
       "      <td>November</td>\n",
       "      <td>30</td>\n",
       "      <td>ALPENA</td>\n",
       "      <td>USA</td>\n",
       "      <td>Americas</td>\n",
       "      <td>...</td>\n",
       "      <td>29.0</td>\n",
       "      <td>3000.0</td>\n",
       "      <td>20.0</td>\n",
       "      <td>2007.0</td>\n",
       "      <td>Qtr 3</td>\n",
       "      <td>August</td>\n",
       "      <td>10.0</td>\n",
       "      <td>1.01</td>\n",
       "      <td>No</td>\n",
       "      <td>Yes</td>\n",
       "    </tr>\n",
       "    <tr>\n",
       "      <th>2</th>\n",
       "      <td>MC - Contract</td>\n",
       "      <td>NaN</td>\n",
       "      <td>PM - Preventive Maintenance</td>\n",
       "      <td>2018</td>\n",
       "      <td>Qtr 4</td>\n",
       "      <td>November</td>\n",
       "      <td>30</td>\n",
       "      <td>ALPENA</td>\n",
       "      <td>USA</td>\n",
       "      <td>Americas</td>\n",
       "      <td>...</td>\n",
       "      <td>29.0</td>\n",
       "      <td>3000.0</td>\n",
       "      <td>20.0</td>\n",
       "      <td>2007.0</td>\n",
       "      <td>Qtr 3</td>\n",
       "      <td>August</td>\n",
       "      <td>10.0</td>\n",
       "      <td>1.01</td>\n",
       "      <td>No</td>\n",
       "      <td>Yes</td>\n",
       "    </tr>\n",
       "    <tr>\n",
       "      <th>3</th>\n",
       "      <td>MC - Contract</td>\n",
       "      <td>NaN</td>\n",
       "      <td>PM - Preventive Maintenance</td>\n",
       "      <td>2018</td>\n",
       "      <td>Qtr 4</td>\n",
       "      <td>November</td>\n",
       "      <td>30</td>\n",
       "      <td>ALPENA</td>\n",
       "      <td>USA</td>\n",
       "      <td>Americas</td>\n",
       "      <td>...</td>\n",
       "      <td>29.0</td>\n",
       "      <td>3000.0</td>\n",
       "      <td>20.0</td>\n",
       "      <td>2007.0</td>\n",
       "      <td>Qtr 3</td>\n",
       "      <td>August</td>\n",
       "      <td>10.0</td>\n",
       "      <td>1.01</td>\n",
       "      <td>No</td>\n",
       "      <td>Yes</td>\n",
       "    </tr>\n",
       "    <tr>\n",
       "      <th>4</th>\n",
       "      <td>MC - Contract</td>\n",
       "      <td>NaN</td>\n",
       "      <td>PM - Preventive Maintenance</td>\n",
       "      <td>2018</td>\n",
       "      <td>Qtr 4</td>\n",
       "      <td>November</td>\n",
       "      <td>30</td>\n",
       "      <td>ALPENA</td>\n",
       "      <td>USA</td>\n",
       "      <td>Americas</td>\n",
       "      <td>...</td>\n",
       "      <td>29.0</td>\n",
       "      <td>3000.0</td>\n",
       "      <td>20.0</td>\n",
       "      <td>2007.0</td>\n",
       "      <td>Qtr 3</td>\n",
       "      <td>August</td>\n",
       "      <td>10.0</td>\n",
       "      <td>1.01</td>\n",
       "      <td>No</td>\n",
       "      <td>Yes</td>\n",
       "    </tr>\n",
       "  </tbody>\n",
       "</table>\n",
       "<p>5 rows × 66 columns</p>\n",
       "</div>"
      ],
      "text/plain": [
       "  Accounting Code Action Text                    Call Type  Year Quarter  \\\n",
       "0   MC - Contract         NaN  PM - Preventive Maintenance  2018   Qtr 4   \n",
       "1   MC - Contract         NaN  PM - Preventive Maintenance  2018   Qtr 4   \n",
       "2   MC - Contract         NaN  PM - Preventive Maintenance  2018   Qtr 4   \n",
       "3   MC - Contract         NaN  PM - Preventive Maintenance  2018   Qtr 4   \n",
       "4   MC - Contract         NaN  PM - Preventive Maintenance  2018   Qtr 4   \n",
       "\n",
       "      Month  Day Customer City Customer Country Customer Geocenter  ...  \\\n",
       "0  November   30        ALPENA              USA           Americas  ...   \n",
       "1  November   30        ALPENA              USA           Americas  ...   \n",
       "2  November   30        ALPENA              USA           Americas  ...   \n",
       "3  November   30        ALPENA              USA           Americas  ...   \n",
       "4  November   30        ALPENA              USA           Americas  ...   \n",
       "\n",
       "   Total Hours Travel Cost $ Travel Hours  Year.4 Quarter.4  Month.4  Day.4  \\\n",
       "0         29.0        3000.0         20.0  2007.0     Qtr 3   August   10.0   \n",
       "1         29.0        3000.0         20.0  2007.0     Qtr 3   August   10.0   \n",
       "2         29.0        3000.0         20.0  2007.0     Qtr 3   August   10.0   \n",
       "3         29.0        3000.0         20.0  2007.0     Qtr 3   August   10.0   \n",
       "4         29.0        3000.0         20.0  2007.0     Qtr 3   August   10.0   \n",
       "\n",
       "  Warranty Length (Years) Was Call a Phone Fix ? Was Instr. Out of Warranty ?  \n",
       "0                    1.01                     No                          Yes  \n",
       "1                    1.01                     No                          Yes  \n",
       "2                    1.01                     No                          Yes  \n",
       "3                    1.01                     No                          Yes  \n",
       "4                    1.01                     No                          Yes  \n",
       "\n",
       "[5 rows x 66 columns]"
      ]
     },
     "execution_count": 26,
     "metadata": {},
     "output_type": "execute_result"
    }
   ],
   "source": [
    " \n",
    "  \n",
    "#To scale data \n",
    "#scaler.fit(ship)\n",
    "ship.head()"
   ]
  },
  {
   "cell_type": "code",
   "execution_count": 27,
   "metadata": {},
   "outputs": [],
   "source": [
    "# X = ship.drop(['Item Commercial Cost $', 'Item Factory Cost $', 'Labor Cost $', 'Material Commercial Cost $', 'Material Factory Cost $', 'Total Commercial Call Cost $', 'Total Factory Call Cost $'], axis = 1)\n",
    "# y = ship[['Item Commercial Cost $', 'Item Factory Cost $', 'Labor Cost $', 'Material Commercial Cost $', 'Material Factory Cost $', 'Total Commercial Call Cost $', 'Total Factory Call Cost $']]\n",
    "# defining my dependent varibles 'Total Commercial Call Cost $'and my independent varibles everython else\n",
    "y = ship['Total Commercial Call Cost $']\n",
    "X = ship.drop(['Total Commercial Call Cost $'], axis = 1)"
   ]
  },
  {
   "cell_type": "code",
   "execution_count": 28,
   "metadata": {},
   "outputs": [],
   "source": [
    "# dropping non quantative data since currently the regression model will not know what to do with non quantative data\n",
    "X = X.drop(['Accounting Code', 'Call Type', 'Quarter', 'Customer City', 'Customer Country'], axis = 1)\n",
    "X = X.drop(['Customer Geocenter', 'Customer Name', 'Customer State', 'Equipment                     Product Line'], axis = 1)\n",
    "X= X.drop(['Equipment Product Family', 'Equipment Product ID', 'Equipment Responsible Factory', 'Equipment Serial Number'], axis = 1)\n",
    "X = X.drop(['Equipment Technique', 'Error Code', 'Error Code Group', 'Error Code Name'], axis = 1)\n",
    "X = X.drop(['Error Description', 'Excellence Rating                                        (Installs Only)'], axis = 1)\n",
    "X = X.drop(['Month', 'Notification Detail Text', 'Problem Text'], axis = 1)\n",
    "X = X.drop(['Part Number                                        or                                                  Activity Type'], axis=1)\n",
    "X = X.drop(['Service Order Status Desc', 'Service Region Name', 'Was Call a Phone Fix ?'], axis = 1)\n",
    "X = X.drop(['Was Instr. Out of Warranty ?'], axis = 1)\n",
    "X = X.drop(['Month.1', 'Month.2', 'Month.3', 'Month.4'], axis = 1)\n",
    "X = X.drop(['Quarter.1', 'Quarter.2', 'Quarter.3', 'Quarter.4'], axis = 1)\n",
    "X = X.drop(['Action Text', 'Service Order ID'], axis = 1)\n",
    "X = X.drop(['Equipment Original Sales Order'], axis = 1)"
   ]
  },
  {
   "cell_type": "code",
   "execution_count": 29,
   "metadata": {},
   "outputs": [],
   "source": [
    "X.head()\n",
    "# scaler.fit(X)\n",
    "# scaler.fit(y)\n",
    "# there are a few null places and the regression model will not know what to so filling in null spotts \n",
    "X = X.fillna(0)\n",
    "y = y.fillna(0).values.reshape(-1, 1)"
   ]
  },
  {
   "cell_type": "code",
   "execution_count": 30,
   "metadata": {},
   "outputs": [],
   "source": [
    "# plt.scatter(X, y)\n",
    "# plt.show()\n",
    "# splitting my data\n",
    "from sklearn.model_selection import train_test_split\n",
    "\n",
    "X_train, X_test, y_train, y_test = train_test_split(X, y, random_state=1)"
   ]
  },
  {
   "cell_type": "code",
   "execution_count": 31,
   "metadata": {},
   "outputs": [
    {
     "name": "stderr",
     "output_type": "stream",
     "text": [
      "C:\\Users\\Owner\\anconda3\\lib\\site-packages\\sklearn\\preprocessing\\data.py:645: DataConversionWarning: Data with input dtype int64, float64 were all converted to float64 by StandardScaler.\n",
      "  return self.partial_fit(X, y)\n"
     ]
    }
   ],
   "source": [
    "# I am going to have to models one with scaled data another with non scaled data\n",
    "X_scaler = StandardScaler().fit(X_train)\n",
    "y_scaler = StandardScaler().fit(y_train)"
   ]
  },
  {
   "cell_type": "code",
   "execution_count": 32,
   "metadata": {},
   "outputs": [
    {
     "name": "stderr",
     "output_type": "stream",
     "text": [
      "C:\\Users\\Owner\\anconda3\\lib\\site-packages\\ipykernel_launcher.py:2: DataConversionWarning: Data with input dtype int64, float64 were all converted to float64 by StandardScaler.\n",
      "  \n",
      "C:\\Users\\Owner\\anconda3\\lib\\site-packages\\ipykernel_launcher.py:3: DataConversionWarning: Data with input dtype int64, float64 were all converted to float64 by StandardScaler.\n",
      "  This is separate from the ipykernel package so we can avoid doing imports until\n"
     ]
    }
   ],
   "source": [
    "# scaling everything\n",
    "X_train_scaled = X_scaler.transform(X_train)\n",
    "X_test_scaled = X_scaler.transform(X_test)\n",
    "y_train_scaled = y_scaler.transform(y_train)\n",
    "y_test_scaled = y_scaler.transform(y_test)"
   ]
  },
  {
   "cell_type": "code",
   "execution_count": 33,
   "metadata": {},
   "outputs": [],
   "source": [
    "# intially I was going to try a logistic regression but that did not work\n",
    "from sklearn.linear_model import LogisticRegression, LinearRegression\n",
    "classifier = LogisticRegression()\n"
   ]
  },
  {
   "cell_type": "code",
   "execution_count": 34,
   "metadata": {},
   "outputs": [],
   "source": [
    "# model is going to get trained with the scaled data model2 is going to be with non scaled data\n",
    "model = LinearRegression()\n",
    "model2 = LinearRegression()"
   ]
  },
  {
   "cell_type": "code",
   "execution_count": 35,
   "metadata": {},
   "outputs": [
    {
     "data": {
      "text/plain": [
       "LinearRegression(copy_X=True, fit_intercept=True, n_jobs=None,\n",
       "         normalize=False)"
      ]
     },
     "execution_count": 35,
     "metadata": {},
     "output_type": "execute_result"
    }
   ],
   "source": [
    "# fitting data\n",
    "model.fit(X_train_scaled, y_train_scaled)\n",
    "model2.fit(X_train, y_train)\n",
    "#classifier.fit(X_train, y_train)"
   ]
  },
  {
   "cell_type": "code",
   "execution_count": 36,
   "metadata": {},
   "outputs": [],
   "source": [
    "# classifier.fit(X_train, y_train)"
   ]
  },
  {
   "cell_type": "code",
   "execution_count": 37,
   "metadata": {},
   "outputs": [
    {
     "name": "stdout",
     "output_type": "stream",
     "text": [
      "r2 of scaled data: 1.0\n",
      "r2 of non scaled data:0.5759444076085958\n"
     ]
    }
   ],
   "source": [
    "# determing the r2 of each model\n",
    "r2 = model.score(X_test_scaled, y_test_scaled)\n",
    "r21 = model.score(X_test, y_test)\n",
    "print(f\"r2 of scaled data: {r2}\")\n",
    "print(f\"r2 of non scaled data:{r21}\")"
   ]
  },
  {
   "cell_type": "code",
   "execution_count": 39,
   "metadata": {},
   "outputs": [
    {
     "data": {
      "image/png": "[encoded data removed]",
      "text/plain": [
       "<Figure size 432x288 with 1 Axes>"
      ]
     },
     "metadata": {
      "needs_background": "light"
     },
     "output_type": "display_data"
    },
    {
     "data": {
      "text/plain": [
       "<Figure size 432x288 with 0 Axes>"
      ]
     },
     "metadata": {},
     "output_type": "display_data"
    }
   ],
   "source": [
    "plt.plot(model.predict(X_train_scaled), y_train_scaled, c=\"blue\", label=\"Training Data\")\n",
    "plt.scatter(model.predict(X_test_scaled), y_test_scaled, c=\"red\", label=\"Testing Data\")\n",
    "plt.legend()\n",
    "plt.title('scaled regression')\n",
    "plt.xlabel('independent varible')\n",
    "plt.ylabel('Total Commercial Call Cost $')\n",
    "plt.show()\n",
    "plt.savefig('C:/Users/Owner/Desktop/thermo fisher/Neurodiversity_in_the_Workplace_Data_Analysis/raw_data/scaled_fit_comercal_cost.png')"
   ]
  },
  {
   "cell_type": "code",
   "execution_count": 40,
   "metadata": {},
   "outputs": [
    {
     "data": {
      "image/png": "[encoded data removed]",
      "text/plain": [
       "<Figure size 432x288 with 1 Axes>"
      ]
     },
     "metadata": {
      "needs_background": "light"
     },
     "output_type": "display_data"
    }
   ],
   "source": [
    "plt.scatter(model.predict(X_train_scaled), model.predict(X_train_scaled) - y_train_scaled, c=\"blue\", label=\"Training Data\")\n",
    "plt.scatter(model.predict(X_test_scaled), model.predict(X_test_scaled) - y_test_scaled, c=\"orange\", label=\"Testing Data\")\n",
    "plt.legend()\n",
    "plt.hlines(y=0, xmin=y_test_scaled.min(), xmax=y_test_scaled.max())\n",
    "plt.title(\"Residual Plot\")\n",
    "plt.show()"
   ]
  },
  {
   "cell_type": "code",
   "execution_count": 44,
   "metadata": {},
   "outputs": [
    {
     "data": {
      "image/png": "[encoded data removed]",
      "text/plain": [
       "<Figure size 432x288 with 1 Axes>"
      ]
     },
     "metadata": {
      "needs_background": "light"
     },
     "output_type": "display_data"
    },
    {
     "data": {
      "text/plain": [
       "<Figure size 432x288 with 0 Axes>"
      ]
     },
     "metadata": {},
     "output_type": "display_data"
    }
   ],
   "source": [
    "plt.plot(model.predict(X_train), y_train, c=\"blue\", label=\"Training Data\")\n",
    "plt.scatter(model.predict(X_test), y_test, c=\"red\", label=\"Testing Data\")\n",
    "plt.legend()\n",
    "plt.title('non scaled regression')\n",
    "plt.xlabel('independent varible')\n",
    "plt.ylabel('Total Commercial Call Cost $')\n",
    "plt.show()\n",
    "plt.savefig('C:/Users/Owner/Desktop/thermo fisher/Neurodiversity_in_the_Workplace_Data_Analysis/raw_data/fit_comercal_cost.png')\n",
    "plt.show()"
   ]
  },
  {
   "cell_type": "code",
   "execution_count": 45,
   "metadata": {},
   "outputs": [
    {
     "data": {
      "image/png": "[encoded data removed]",
      "text/plain": [
       "<Figure size 432x288 with 1 Axes>"
      ]
     },
     "metadata": {
      "needs_background": "light"
     },
     "output_type": "display_data"
    }
   ],
   "source": [
    "plt.scatter(model.predict(X_train),model.predict(X_train) - y_train, c=\"blue\", label=\"Training Data\")\n",
    "plt.scatter(model.predict(X_test), model.predict(X_test) - y_test, c=\"red\", label=\"Testing Data\")\n",
    "plt.legend()\n",
    "plt.hlines(y=-10000, xmin=y_test_scaled.min(), xmax=y_test.max())\n",
    "plt.title(\"Residual Plot\")\n",
    "plt.show()"
   ]
  },
  {
   "cell_type": "code",
   "execution_count": null,
   "metadata": {},
   "outputs": [],
   "source": []
  }
 ],
 "metadata": {
  "kernelspec": {
   "display_name": "Python 3",
   "language": "python",
   "name": "python3"
  },
  "language_info": {
   "codemirror_mode": {
    "name": "ipython",
    "version": 3
   },
   "file_extension": ".py",
   "mimetype": "text/x-python",
   "name": "python",
   "nbconvert_exporter": "python",
   "pygments_lexer": "ipython3",
   "version": "3.7.3"
  }
 },
 "nbformat": 4,
 "nbformat_minor": 2
}
